{
 "cells": [
  {
   "cell_type": "markdown",
   "metadata": {},
   "source": [
    "Импорт библиотек и загрузка данных"
   ]
  },
  {
   "cell_type": "code",
   "execution_count": 15,
   "metadata": {},
   "outputs": [],
   "source": [
    "import pandas as pd\n",
    "import numpy as np\n",
    "import matplotlib.pyplot as plt\n",
    "from sklearn.model_selection import train_test_split\n",
    "from sklearn.ensemble import RandomForestRegressor\n",
    "from sklearn.metrics import mean_squared_error, mean_absolute_error, r2_score\n",
    "import warnings\n",
    "import time\n",
    "\n",
    "warnings.filterwarnings('ignore')"
   ]
  },
  {
   "cell_type": "code",
   "execution_count": 16,
   "metadata": {},
   "outputs": [],
   "source": [
    "# Загрузка данных\n",
    "data_lec = pd.read_csv('data_lec.csv')\n",
    "target_lec = pd.read_csv('target_lec.csv')"
   ]
  },
  {
   "cell_type": "markdown",
   "metadata": {},
   "source": [
    "Анализ данных и обработка"
   ]
  },
  {
   "cell_type": "code",
   "execution_count": 17,
   "metadata": {},
   "outputs": [
    {
     "data": {
      "text/html": [
       "<div>\n",
       "<style scoped>\n",
       "    .dataframe tbody tr th:only-of-type {\n",
       "        vertical-align: middle;\n",
       "    }\n",
       "\n",
       "    .dataframe tbody tr th {\n",
       "        vertical-align: top;\n",
       "    }\n",
       "\n",
       "    .dataframe thead th {\n",
       "        text-align: right;\n",
       "    }\n",
       "</style>\n",
       "<table border=\"1\" class=\"dataframe\">\n",
       "  <thead>\n",
       "    <tr style=\"text-align: right;\">\n",
       "      <th></th>\n",
       "      <th>Unnamed: 0</th>\n",
       "      <th>timestamp</th>\n",
       "      <th>ppm1</th>\n",
       "      <th>temp1</th>\n",
       "      <th>temp2</th>\n",
       "      <th>ppm2</th>\n",
       "      <th>gas_opening1</th>\n",
       "      <th>press1</th>\n",
       "      <th>rotationspeed1</th>\n",
       "      <th>press3</th>\n",
       "      <th>...</th>\n",
       "      <th>SIM2</th>\n",
       "      <th>LSF2</th>\n",
       "      <th>electric_ampere2</th>\n",
       "      <th>electric_ampere3</th>\n",
       "      <th>temp5</th>\n",
       "      <th>target</th>\n",
       "      <th>target_ffill</th>\n",
       "      <th>electric_ampere_delta1</th>\n",
       "      <th>coeffs_current1</th>\n",
       "      <th>coeffs_temp1</th>\n",
       "    </tr>\n",
       "  </thead>\n",
       "  <tbody>\n",
       "    <tr>\n",
       "      <th>0</th>\n",
       "      <td>0</td>\n",
       "      <td>2023-09-04 05:01:00+00:00</td>\n",
       "      <td>NaN</td>\n",
       "      <td>NaN</td>\n",
       "      <td>NaN</td>\n",
       "      <td>NaN</td>\n",
       "      <td>NaN</td>\n",
       "      <td>NaN</td>\n",
       "      <td>NaN</td>\n",
       "      <td>NaN</td>\n",
       "      <td>...</td>\n",
       "      <td>NaN</td>\n",
       "      <td>NaN</td>\n",
       "      <td>NaN</td>\n",
       "      <td>NaN</td>\n",
       "      <td>NaN</td>\n",
       "      <td>NaN</td>\n",
       "      <td>NaN</td>\n",
       "      <td>0.006982</td>\n",
       "      <td>NaN</td>\n",
       "      <td>NaN</td>\n",
       "    </tr>\n",
       "    <tr>\n",
       "      <th>1</th>\n",
       "      <td>1</td>\n",
       "      <td>2023-09-04 05:02:00+00:00</td>\n",
       "      <td>NaN</td>\n",
       "      <td>767.616089</td>\n",
       "      <td>301.616760</td>\n",
       "      <td>NaN</td>\n",
       "      <td>4.334852</td>\n",
       "      <td>0.338180</td>\n",
       "      <td>0.0</td>\n",
       "      <td>0.0</td>\n",
       "      <td>...</td>\n",
       "      <td>NaN</td>\n",
       "      <td>NaN</td>\n",
       "      <td>27.0</td>\n",
       "      <td>NaN</td>\n",
       "      <td>781.098145</td>\n",
       "      <td>NaN</td>\n",
       "      <td>NaN</td>\n",
       "      <td>0.018020</td>\n",
       "      <td>NaN</td>\n",
       "      <td>NaN</td>\n",
       "    </tr>\n",
       "    <tr>\n",
       "      <th>2</th>\n",
       "      <td>2</td>\n",
       "      <td>2023-09-04 05:03:00+00:00</td>\n",
       "      <td>NaN</td>\n",
       "      <td>767.758545</td>\n",
       "      <td>302.511932</td>\n",
       "      <td>NaN</td>\n",
       "      <td>4.304109</td>\n",
       "      <td>0.388817</td>\n",
       "      <td>0.0</td>\n",
       "      <td>0.0</td>\n",
       "      <td>...</td>\n",
       "      <td>NaN</td>\n",
       "      <td>NaN</td>\n",
       "      <td>27.0</td>\n",
       "      <td>NaN</td>\n",
       "      <td>781.050659</td>\n",
       "      <td>NaN</td>\n",
       "      <td>NaN</td>\n",
       "      <td>0.015809</td>\n",
       "      <td>NaN</td>\n",
       "      <td>NaN</td>\n",
       "    </tr>\n",
       "    <tr>\n",
       "      <th>3</th>\n",
       "      <td>3</td>\n",
       "      <td>2023-09-04 05:04:00+00:00</td>\n",
       "      <td>NaN</td>\n",
       "      <td>767.806030</td>\n",
       "      <td>303.645836</td>\n",
       "      <td>NaN</td>\n",
       "      <td>4.303205</td>\n",
       "      <td>0.353552</td>\n",
       "      <td>0.0</td>\n",
       "      <td>0.0</td>\n",
       "      <td>...</td>\n",
       "      <td>NaN</td>\n",
       "      <td>NaN</td>\n",
       "      <td>27.0</td>\n",
       "      <td>NaN</td>\n",
       "      <td>781.050659</td>\n",
       "      <td>NaN</td>\n",
       "      <td>NaN</td>\n",
       "      <td>0.013946</td>\n",
       "      <td>NaN</td>\n",
       "      <td>NaN</td>\n",
       "    </tr>\n",
       "    <tr>\n",
       "      <th>4</th>\n",
       "      <td>4</td>\n",
       "      <td>2023-09-04 05:05:00+00:00</td>\n",
       "      <td>NaN</td>\n",
       "      <td>767.806000</td>\n",
       "      <td>304.222733</td>\n",
       "      <td>NaN</td>\n",
       "      <td>4.290545</td>\n",
       "      <td>0.349031</td>\n",
       "      <td>0.0</td>\n",
       "      <td>0.0</td>\n",
       "      <td>...</td>\n",
       "      <td>NaN</td>\n",
       "      <td>NaN</td>\n",
       "      <td>27.0</td>\n",
       "      <td>NaN</td>\n",
       "      <td>780.870209</td>\n",
       "      <td>NaN</td>\n",
       "      <td>NaN</td>\n",
       "      <td>0.023489</td>\n",
       "      <td>NaN</td>\n",
       "      <td>NaN</td>\n",
       "    </tr>\n",
       "  </tbody>\n",
       "</table>\n",
       "<p>5 rows × 49 columns</p>\n",
       "</div>"
      ],
      "text/plain": [
       "   Unnamed: 0                  timestamp  ppm1       temp1       temp2  ppm2  \\\n",
       "0           0  2023-09-04 05:01:00+00:00   NaN         NaN         NaN   NaN   \n",
       "1           1  2023-09-04 05:02:00+00:00   NaN  767.616089  301.616760   NaN   \n",
       "2           2  2023-09-04 05:03:00+00:00   NaN  767.758545  302.511932   NaN   \n",
       "3           3  2023-09-04 05:04:00+00:00   NaN  767.806030  303.645836   NaN   \n",
       "4           4  2023-09-04 05:05:00+00:00   NaN  767.806000  304.222733   NaN   \n",
       "\n",
       "   gas_opening1    press1  rotationspeed1  press3  ...  SIM2  LSF2  \\\n",
       "0           NaN       NaN             NaN     NaN  ...   NaN   NaN   \n",
       "1      4.334852  0.338180             0.0     0.0  ...   NaN   NaN   \n",
       "2      4.304109  0.388817             0.0     0.0  ...   NaN   NaN   \n",
       "3      4.303205  0.353552             0.0     0.0  ...   NaN   NaN   \n",
       "4      4.290545  0.349031             0.0     0.0  ...   NaN   NaN   \n",
       "\n",
       "   electric_ampere2  electric_ampere3       temp5  target  target_ffill  \\\n",
       "0               NaN               NaN         NaN     NaN           NaN   \n",
       "1              27.0               NaN  781.098145     NaN           NaN   \n",
       "2              27.0               NaN  781.050659     NaN           NaN   \n",
       "3              27.0               NaN  781.050659     NaN           NaN   \n",
       "4              27.0               NaN  780.870209     NaN           NaN   \n",
       "\n",
       "   electric_ampere_delta1  coeffs_current1  coeffs_temp1  \n",
       "0                0.006982              NaN           NaN  \n",
       "1                0.018020              NaN           NaN  \n",
       "2                0.015809              NaN           NaN  \n",
       "3                0.013946              NaN           NaN  \n",
       "4                0.023489              NaN           NaN  \n",
       "\n",
       "[5 rows x 49 columns]"
      ]
     },
     "execution_count": 17,
     "metadata": {},
     "output_type": "execute_result"
    }
   ],
   "source": [
    "data_lec.head()"
   ]
  },
  {
   "cell_type": "code",
   "execution_count": 18,
   "metadata": {},
   "outputs": [
    {
     "data": {
      "text/plain": [
       "Index(['Unnamed: 0', 'timestamp', 'ppm1', 'temp1', 'temp2', 'ppm2',\n",
       "       'gas_opening1', 'press1', 'rotationspeed1', 'press3', 'temp3', 'press2',\n",
       "       'press4', 'temp4', 'electric_ampere1', 'speed1', 'press5',\n",
       "       'electric_consumption2', 'press6', 'speed2', 'electric_consumption3',\n",
       "       'inlet_pressure1', 'press7', 'gas_consumption1', 'press8', 'press9',\n",
       "       'electric_consumption4', 'electric_consumption5', 'press10', 'sito1',\n",
       "       'moisture1', 'ALM1', 'CaO1', 'SIM1', 'LSF1', 'sito2', 'moisture2',\n",
       "       'ALM2', 'CaO2', 'SIM2', 'LSF2', 'electric_ampere2', 'electric_ampere3',\n",
       "       'temp5', 'target', 'target_ffill', 'electric_ampere_delta1',\n",
       "       'coeffs_current1', 'coeffs_temp1'],\n",
       "      dtype='object')"
      ]
     },
     "execution_count": 18,
     "metadata": {},
     "output_type": "execute_result"
    }
   ],
   "source": [
    "data_lec.columns"
   ]
  },
  {
   "cell_type": "code",
   "execution_count": 19,
   "metadata": {},
   "outputs": [
    {
     "data": {
      "text/html": [
       "<div>\n",
       "<style scoped>\n",
       "    .dataframe tbody tr th:only-of-type {\n",
       "        vertical-align: middle;\n",
       "    }\n",
       "\n",
       "    .dataframe tbody tr th {\n",
       "        vertical-align: top;\n",
       "    }\n",
       "\n",
       "    .dataframe thead th {\n",
       "        text-align: right;\n",
       "    }\n",
       "</style>\n",
       "<table border=\"1\" class=\"dataframe\">\n",
       "  <thead>\n",
       "    <tr style=\"text-align: right;\">\n",
       "      <th></th>\n",
       "      <th>timestamp</th>\n",
       "      <th>target</th>\n",
       "    </tr>\n",
       "  </thead>\n",
       "  <tbody>\n",
       "    <tr>\n",
       "      <th>0</th>\n",
       "      <td>2023-09-06 07:17:00+00:00</td>\n",
       "      <td>0.99480</td>\n",
       "    </tr>\n",
       "    <tr>\n",
       "      <th>1</th>\n",
       "      <td>2023-09-06 08:46:00+00:00</td>\n",
       "      <td>1.98218</td>\n",
       "    </tr>\n",
       "    <tr>\n",
       "      <th>2</th>\n",
       "      <td>2023-09-06 11:24:00+00:00</td>\n",
       "      <td>2.29000</td>\n",
       "    </tr>\n",
       "    <tr>\n",
       "      <th>3</th>\n",
       "      <td>2023-09-06 13:21:00+00:00</td>\n",
       "      <td>2.13000</td>\n",
       "    </tr>\n",
       "    <tr>\n",
       "      <th>4</th>\n",
       "      <td>2023-09-06 14:53:00+00:00</td>\n",
       "      <td>1.15249</td>\n",
       "    </tr>\n",
       "  </tbody>\n",
       "</table>\n",
       "</div>"
      ],
      "text/plain": [
       "                   timestamp   target\n",
       "0  2023-09-06 07:17:00+00:00  0.99480\n",
       "1  2023-09-06 08:46:00+00:00  1.98218\n",
       "2  2023-09-06 11:24:00+00:00  2.29000\n",
       "3  2023-09-06 13:21:00+00:00  2.13000\n",
       "4  2023-09-06 14:53:00+00:00  1.15249"
      ]
     },
     "execution_count": 19,
     "metadata": {},
     "output_type": "execute_result"
    }
   ],
   "source": [
    "target_lec.head()"
   ]
  },
  {
   "cell_type": "code",
   "execution_count": 20,
   "metadata": {},
   "outputs": [],
   "source": [
    "# Преобразование временных меток в формат datetime для корректной работы с временными рядами\n",
    "data_lec['timestamp'] = pd.to_datetime(data_lec['timestamp'])\n",
    "target_lec['timestamp'] = pd.to_datetime(target_lec['timestamp'])\n",
    "\n",
    "# Объединение датасетов data_lec и target_lec по столбцу timestamp\n",
    "merged_data = pd.merge_asof(\n",
    "    data_lec.sort_values('timestamp'),\n",
    "    target_lec.sort_values('timestamp'),\n",
    "    on='timestamp',\n",
    "    direction='backward'\n",
    ")"
   ]
  },
  {
   "cell_type": "code",
   "execution_count": 21,
   "metadata": {},
   "outputs": [
    {
     "data": {
      "text/plain": [
       "Index(['Unnamed: 0', 'timestamp', 'ppm1', 'temp1', 'temp2', 'ppm2',\n",
       "       'gas_opening1', 'press1', 'rotationspeed1', 'press3', 'temp3', 'press2',\n",
       "       'press4', 'temp4', 'electric_ampere1', 'speed1', 'press5',\n",
       "       'electric_consumption2', 'press6', 'speed2', 'electric_consumption3',\n",
       "       'inlet_pressure1', 'press7', 'gas_consumption1', 'press8', 'press9',\n",
       "       'electric_consumption4', 'electric_consumption5', 'press10', 'sito1',\n",
       "       'moisture1', 'ALM1', 'CaO1', 'SIM1', 'LSF1', 'sito2', 'moisture2',\n",
       "       'ALM2', 'CaO2', 'SIM2', 'LSF2', 'electric_ampere2', 'electric_ampere3',\n",
       "       'temp5', 'target_x', 'target_ffill', 'electric_ampere_delta1',\n",
       "       'coeffs_current1', 'coeffs_temp1', 'target_y'],\n",
       "      dtype='object')"
      ]
     },
     "execution_count": 21,
     "metadata": {},
     "output_type": "execute_result"
    }
   ],
   "source": [
    "merged_data.columns"
   ]
  },
  {
   "cell_type": "markdown",
   "metadata": {},
   "source": [
    " 1. Построить виртуальный датчик (ВД) показателя в таргете, который сможет расчитывать значение в настоящий момент времени,  что существенно снизит нагрузку на лабораторию и даст возможность оператору быстрее реагировать на изменения в процессе."
   ]
  },
  {
   "cell_type": "code",
   "execution_count": 22,
   "metadata": {},
   "outputs": [],
   "source": [
    "# Заполнение пропущенных значений\n",
    "# Пропуски заполняются методом forward fill (заполнение предыдущими значениями), затем медианой\n",
    "merged_data = merged_data.fillna(method='ffill').fillna(merged_data.median())\n",
    "\n",
    "# Разделение признаков и целевого значения\n",
    "features = merged_data.drop(columns=['Unnamed: 0', 'timestamp', 'target_x', 'target_y', 'target_ffill'])\n",
    "target = merged_data['target_y']\n",
    "\n",
    "# Удаление строк с пропущенными значениями целевого признака\n",
    "features = features[~target.isnull()]\n",
    "target = target.dropna()\n",
    "\n",
    "# Разделение данных на обучающую и тестовую выборки\n",
    "X_train, X_test, y_train, y_test = train_test_split(features, target, test_size=0.2, random_state=42)"
   ]
  },
  {
   "cell_type": "code",
   "execution_count": 23,
   "metadata": {},
   "outputs": [
    {
     "name": "stdout",
     "output_type": "stream",
     "text": [
      "RMSE:  0.0395448600575142\n",
      "MAE:  0.0074882157405898216\n",
      "R^2:  0.9935512446076835\n"
     ]
    }
   ],
   "source": [
    "# Модель виртуального датчика\n",
    "virtual_sensor_model = RandomForestRegressor(random_state=42, n_estimators=50)\n",
    "virtual_sensor_model.fit(X_train, y_train)\n",
    "\n",
    "# Предсказание текущих значений\n",
    "y_pred_current = virtual_sensor_model.predict(X_test)\n",
    "\n",
    "# Оценка модели\n",
    "rmse_VS = np.sqrt(mean_squared_error(y_test, y_pred_current))\n",
    "mae_VS = mean_absolute_error(y_test, y_pred_current)\n",
    "r2_VS = r2_score(y_test, y_pred_current)\n",
    "print(\"RMSE: \", rmse_VS)\n",
    "print(\"MAE: \", mae_VS)\n",
    "print(\"R^2: \", r2_VS)"
   ]
  },
  {
   "cell_type": "markdown",
   "metadata": {},
   "source": [
    "Симуляция работы виртуального датчика в реальном времени"
   ]
  },
  {
   "cell_type": "code",
   "execution_count": 24,
   "metadata": {},
   "outputs": [
    {
     "name": "stdout",
     "output_type": "stream",
     "text": [
      "⚠️ 2023-09-04 23:36:00+00:00: target опустился ниже 1: 0.751\n",
      "✅ 2023-09-06 11:15:00+00:00: target в пределах нормы: 1.982\n",
      "✅ 2023-09-07 03:41:00+00:00: target в пределах нормы: 1.410\n",
      "⚠️ 2023-09-08 08:46:00+00:00: target превысил 2: 2.406\n",
      "⚠️ 2023-09-09 13:06:00+00:00: target превысил 2: 3.431\n",
      "✅ 2023-09-09 15:21:00+00:00: target в пределах нормы: 1.907\n",
      "⚠️ 2023-09-12 06:36:00+00:00: target опустился ниже 1: 0.812\n",
      "✅ 2023-09-12 11:30:00+00:00: target в пределах нормы: 1.484\n",
      "✅ 2023-09-12 21:02:00+00:00: target в пределах нормы: 1.112\n",
      "⚠️ 2023-09-15 13:21:00+00:00: target опустился ниже 1: 0.700\n",
      "⚠️ 2023-09-17 03:11:00+00:00: target превысил 2: 2.827\n",
      "✅ 2023-09-17 04:51:00+00:00: target в пределах нормы: 1.043\n",
      "⚠️ 2023-09-17 13:41:00+00:00: target опустился ниже 1: 0.855\n",
      "✅ 2023-09-19 09:32:00+00:00: target в пределах нормы: 1.780\n",
      "⚠️ 2023-09-19 17:46:00+00:00: target опустился ниже 1: 0.751\n",
      "⚠️ 2023-09-21 15:26:00+00:00: target опустился ниже 1: 0.751\n",
      "⚠️ 2023-09-21 17:57:00+00:00: target опустился ниже 1: 0.751\n",
      "⚠️ 2023-09-22 04:37:00+00:00: target опустился ниже 1: 0.751\n",
      "⚠️ 2023-09-22 21:48:00+00:00: target опустился ниже 1: 0.751\n",
      "⚠️ 2023-09-26 03:54:00+00:00: target опустился ниже 1: 0.751\n",
      "⚠️ 2023-09-27 22:21:00+00:00: target опустился ниже 1: 0.751\n",
      "⚠️ 2023-09-30 04:03:00+00:00: target опустился ниже 1: 0.751\n",
      "⚠️ 2023-09-30 05:00:00+00:00: target опустился ниже 1: 0.751\n",
      "⚠️ 2023-10-04 17:47:00+00:00: target опустился ниже 1: 0.751\n",
      "⚠️ 2023-10-05 17:14:00+00:00: target опустился ниже 1: 0.751\n",
      "⚠️ 2023-10-05 22:41:00+00:00: target опустился ниже 1: 0.751\n",
      "⚠️ 2023-10-08 12:08:00+00:00: target опустился ниже 1: 0.751\n",
      "⚠️ 2023-10-08 17:41:00+00:00: target опустился ниже 1: 0.751\n",
      "⚠️ 2023-10-11 04:35:00+00:00: target опустился ниже 1: 0.751\n",
      "⚠️ 2023-10-11 08:38:00+00:00: target опустился ниже 1: 0.751\n",
      "⚠️ 2023-10-11 22:45:00+00:00: target опустился ниже 1: 0.751\n",
      "⚠️ 2023-10-12 01:36:00+00:00: target опустился ниже 1: 0.751\n",
      "⚠️ 2023-10-12 11:36:00+00:00: target опустился ниже 1: 0.766\n",
      "⚠️ 2023-10-13 10:28:00+00:00: target опустился ниже 1: 0.751\n",
      "⚠️ 2023-10-13 19:20:00+00:00: target опустился ниже 1: 0.751\n",
      "⚠️ 2023-10-13 21:40:00+00:00: target опустился ниже 1: 0.751\n",
      "⚠️ 2023-10-13 23:21:00+00:00: target опустился ниже 1: 0.751\n",
      "⚠️ 2023-10-14 14:01:00+00:00: target опустился ниже 1: 0.751\n",
      "⚠️ 2023-10-16 14:19:00+00:00: target опустился ниже 1: 0.751\n",
      "⚠️ 2023-10-17 18:58:00+00:00: target опустился ниже 1: 0.751\n",
      "⚠️ 2023-10-18 03:39:00+00:00: target опустился ниже 1: 0.751\n",
      "⚠️ 2023-10-18 04:23:00+00:00: target опустился ниже 1: 0.751\n",
      "⚠️ 2023-10-20 17:51:00+00:00: target опустился ниже 1: 0.751\n",
      "⚠️ 2023-10-22 20:59:00+00:00: target опустился ниже 1: 0.751\n",
      "⚠️ 2023-10-24 01:38:00+00:00: target опустился ниже 1: 0.751\n",
      "⚠️ 2023-10-25 04:35:00+00:00: target опустился ниже 1: 0.751\n",
      "⚠️ 2023-10-27 16:48:00+00:00: target опустился ниже 1: 0.751\n",
      "⚠️ 2023-10-27 21:18:00+00:00: target опустился ниже 1: 0.751\n",
      "⚠️ 2023-10-29 01:37:00+00:00: target опустился ниже 1: 0.751\n",
      "⚠️ 2023-10-29 04:00:00+00:00: target опустился ниже 1: 0.751\n"
     ]
    }
   ],
   "source": [
    "def real_time_sensor(data_stream, model, feature_columns, lower=1, upper=2):\n",
    "\n",
    "    for _, row in data_stream.iterrows():\n",
    "        # Формирование признаков для текущей строки\n",
    "        current_features = row[feature_columns].values.reshape(1, -1)\n",
    "        \n",
    "        # Предсказание текущего значения target\n",
    "        predicted_target = model.predict(current_features)[0]\n",
    "        \n",
    "        # Оповещение при выходе за пороги\n",
    "        timestamp = row['timestamp']\n",
    "        if predicted_target < lower:\n",
    "            print(f\"⚠️ {timestamp}: target опустился ниже {lower}: {predicted_target:.3f}\")\n",
    "        elif predicted_target > upper:\n",
    "            print(f\"⚠️ {timestamp}: target превысил {upper}: {predicted_target:.3f}\")\n",
    "        else:\n",
    "            print(f\"✅ {timestamp}: target в пределах нормы: {predicted_target:.3f}\")\n",
    "        \n",
    "        # Задержка (в рамках симуляции)\n",
    "        time.sleep(1)\n",
    "\n",
    "# Пример потока данных (выбираем несколько для теста)\n",
    "data_stream = merged_data.sample(50).sort_values(by='timestamp')  # Имитация поступающих данных\n",
    "\n",
    "# Запуск виртуального датчика\n",
    "real_time_sensor(data_stream, virtual_sensor_model, features.columns)"
   ]
  },
  {
   "cell_type": "markdown",
   "metadata": {},
   "source": [
    "2. Построить прогнозную модель, которая на горизонте в 15 минут может установить значение таргета."
   ]
  },
  {
   "cell_type": "code",
   "execution_count": 25,
   "metadata": {},
   "outputs": [
    {
     "name": "stdout",
     "output_type": "stream",
     "text": [
      "RMSE:  0.053149257735238396\n",
      "MAE:  0.008500586472196703\n",
      "R^2:  0.9882159861926785\n"
     ]
    }
   ],
   "source": [
    "# Прогнозная модель (горизонт 15 мин)\n",
    "# Сдвиг целевого признака на 15 шагов (данные у нас с интервалом в 1 мин)\n",
    "shifted_target = merged_data['target_y'].shift(-15)\n",
    "forecast_features = features[:-15]\n",
    "forecast_target = shifted_target[:-15]\n",
    "\n",
    "# Разделение данных на обучающую и тестовую выборки для прогнозирования\n",
    "X_train_forecast, X_test_forecast, y_train_forecast, y_test_forecast = train_test_split(\n",
    "    forecast_features, forecast_target, test_size=0.2, random_state=42\n",
    ")\n",
    "\n",
    "# Обучение модели для прогноза на 15 мин вперед\n",
    "forecast_model = RandomForestRegressor(random_state=42, n_estimators=50)\n",
    "forecast_model.fit(X_train_forecast, y_train_forecast)\n",
    "\n",
    "# Предсказание значений на горизонте 15 мин\n",
    "y_pred_forecast = forecast_model.predict(X_test_forecast)\n",
    "\n",
    "# Оценка модели\n",
    "rmse_forecast = np.sqrt(mean_squared_error(y_test_forecast, y_pred_forecast))\n",
    "mae_forecast = mean_absolute_error(y_test_forecast, y_pred_forecast)\n",
    "r2_forecast = r2_score(y_test_forecast, y_pred_forecast)\n",
    "print(\"RMSE: \", rmse_forecast)\n",
    "print(\"MAE: \", mae_forecast)\n",
    "print(\"R^2: \", r2_forecast)"
   ]
  },
  {
   "cell_type": "markdown",
   "metadata": {},
   "source": [
    "Симуляция прогнозирования в реальном времени (горизонт 15 минут)"
   ]
  },
  {
   "cell_type": "code",
   "execution_count": 26,
   "metadata": {},
   "outputs": [
    {
     "name": "stdout",
     "output_type": "stream",
     "text": [
      "✅ Прогноз 2023-09-11 10:22:00+00:00: target через 15 минут в пределах нормы: 1.204\n",
      "✅ Прогноз 2023-09-11 17:34:00+00:00: target через 15 минут в пределах нормы: 1.112\n",
      "⚠️ Прогноз 2023-09-13 17:35:00+00:00: target через 15 минут опустится ниже 1: 0.744\n",
      "⚠️ Прогноз 2023-09-14 12:49:00+00:00: target через 15 минут опустится ниже 1: 0.958\n",
      "✅ Прогноз 2023-09-14 20:09:00+00:00: target через 15 минут в пределах нормы: 1.237\n",
      "✅ Прогноз 2023-09-14 20:39:00+00:00: target через 15 минут в пределах нормы: 1.237\n",
      "✅ Прогноз 2023-09-14 23:34:00+00:00: target через 15 минут в пределах нормы: 1.237\n",
      "✅ Прогноз 2023-09-15 06:44:00+00:00: target через 15 минут в пределах нормы: 1.179\n",
      "⚠️ Прогноз 2023-09-16 11:58:00+00:00: target через 15 минут опустится ниже 1: 0.874\n",
      "✅ Прогноз 2023-09-16 13:52:00+00:00: target через 15 минут в пределах нормы: 1.141\n",
      "⚠️ Прогноз 2023-09-16 23:46:00+00:00: target через 15 минут опустится ниже 1: 0.456\n",
      "✅ Прогноз 2023-09-18 18:41:00+00:00: target через 15 минут в пределах нормы: 1.097\n",
      "⚠️ Прогноз 2023-09-21 05:44:00+00:00: target через 15 минут опустится ниже 1: 0.764\n",
      "⚠️ Прогноз 2023-09-21 15:30:00+00:00: target через 15 минут опустится ниже 1: 0.751\n",
      "⚠️ Прогноз 2023-09-22 14:07:00+00:00: target через 15 минут опустится ниже 1: 0.751\n",
      "⚠️ Прогноз 2023-09-23 21:38:00+00:00: target через 15 минут опустится ниже 1: 0.751\n",
      "⚠️ Прогноз 2023-09-24 06:41:00+00:00: target через 15 минут опустится ниже 1: 0.751\n",
      "⚠️ Прогноз 2023-09-24 08:32:00+00:00: target через 15 минут опустится ниже 1: 0.751\n",
      "⚠️ Прогноз 2023-09-25 12:08:00+00:00: target через 15 минут опустится ниже 1: 0.751\n",
      "⚠️ Прогноз 2023-09-27 00:02:00+00:00: target через 15 минут опустится ниже 1: 0.753\n",
      "⚠️ Прогноз 2023-09-27 04:13:00+00:00: target через 15 минут опустится ниже 1: 0.751\n",
      "⚠️ Прогноз 2023-09-27 13:59:00+00:00: target через 15 минут опустится ниже 1: 0.751\n",
      "⚠️ Прогноз 2023-09-28 14:43:00+00:00: target через 15 минут опустится ниже 1: 0.751\n",
      "⚠️ Прогноз 2023-09-29 07:30:00+00:00: target через 15 минут опустится ниже 1: 0.751\n",
      "⚠️ Прогноз 2023-10-01 15:39:00+00:00: target через 15 минут опустится ниже 1: 0.751\n",
      "⚠️ Прогноз 2023-10-04 01:45:00+00:00: target через 15 минут опустится ниже 1: 0.751\n",
      "⚠️ Прогноз 2023-10-07 17:38:00+00:00: target через 15 минут опустится ниже 1: 0.751\n",
      "⚠️ Прогноз 2023-10-08 02:51:00+00:00: target через 15 минут опустится ниже 1: 0.751\n",
      "⚠️ Прогноз 2023-10-08 09:21:00+00:00: target через 15 минут опустится ниже 1: 0.751\n",
      "⚠️ Прогноз 2023-10-09 04:24:00+00:00: target через 15 минут опустится ниже 1: 0.751\n",
      "⚠️ Прогноз 2023-10-11 10:49:00+00:00: target через 15 минут опустится ниже 1: 0.751\n",
      "⚠️ Прогноз 2023-10-11 14:11:00+00:00: target через 15 минут опустится ниже 1: 0.751\n",
      "⚠️ Прогноз 2023-10-14 16:45:00+00:00: target через 15 минут опустится ниже 1: 0.751\n",
      "⚠️ Прогноз 2023-10-15 18:26:00+00:00: target через 15 минут опустится ниже 1: 0.751\n",
      "⚠️ Прогноз 2023-10-16 18:47:00+00:00: target через 15 минут опустится ниже 1: 0.783\n",
      "⚠️ Прогноз 2023-10-17 04:38:00+00:00: target через 15 минут опустится ниже 1: 0.751\n",
      "⚠️ Прогноз 2023-10-17 19:49:00+00:00: target через 15 минут опустится ниже 1: 0.751\n",
      "⚠️ Прогноз 2023-10-20 01:19:00+00:00: target через 15 минут опустится ниже 1: 0.751\n",
      "⚠️ Прогноз 2023-10-21 02:05:00+00:00: target через 15 минут опустится ниже 1: 0.751\n",
      "⚠️ Прогноз 2023-10-21 10:54:00+00:00: target через 15 минут опустится ниже 1: 0.751\n",
      "⚠️ Прогноз 2023-10-21 21:59:00+00:00: target через 15 минут опустится ниже 1: 0.751\n",
      "⚠️ Прогноз 2023-10-22 11:59:00+00:00: target через 15 минут опустится ниже 1: 0.751\n",
      "⚠️ Прогноз 2023-10-24 01:34:00+00:00: target через 15 минут опустится ниже 1: 0.751\n",
      "⚠️ Прогноз 2023-10-24 06:47:00+00:00: target через 15 минут опустится ниже 1: 0.751\n",
      "⚠️ Прогноз 2023-10-25 03:37:00+00:00: target через 15 минут опустится ниже 1: 0.751\n",
      "⚠️ Прогноз 2023-10-25 06:07:00+00:00: target через 15 минут опустится ниже 1: 0.751\n",
      "⚠️ Прогноз 2023-10-25 09:04:00+00:00: target через 15 минут опустится ниже 1: 0.751\n",
      "⚠️ Прогноз 2023-10-25 18:14:00+00:00: target через 15 минут опустится ниже 1: 0.751\n",
      "⚠️ Прогноз 2023-10-26 03:48:00+00:00: target через 15 минут опустится ниже 1: 0.751\n",
      "⚠️ Прогноз 2023-10-27 11:08:00+00:00: target через 15 минут опустится ниже 1: 0.751\n"
     ]
    }
   ],
   "source": [
    "def real_time_forecast(data_stream, model, feature_columns, lower=1, upper=2):\n",
    "\n",
    "    for _, row in data_stream.iterrows():\n",
    "        # Формирование признаков для текущей строки\n",
    "        current_features = row[feature_columns].values.reshape(1, -1)\n",
    "        \n",
    "        # Прогноз target на 15 минут вперед\n",
    "        predicted_target = model.predict(current_features)[0]\n",
    "        \n",
    "        # Оповещение при выходе за пороги\n",
    "        timestamp = row['timestamp']\n",
    "        if predicted_target < lower:\n",
    "            print(f\"⚠️ Прогноз {timestamp}: target через 15 минут опустится ниже {lower}: {predicted_target:.3f}\")\n",
    "        elif predicted_target > upper:\n",
    "            print(f\"⚠️ Прогноз {timestamp}: target через 15 минут превысит {upper}: {predicted_target:.3f}\")\n",
    "        else:\n",
    "            print(f\"✅ Прогноз {timestamp}: target через 15 минут в пределах нормы: {predicted_target:.3f}\")\n",
    "        \n",
    "        # Задержка (в рамках симуляции)\n",
    "        time.sleep(1)\n",
    "\n",
    "# Пример потока данных (выбираем несколько для теста)\n",
    "data_stream = merged_data.sample(50).sort_values(by='timestamp')  # Имитация поступающих данных\n",
    "\n",
    "# Запуск прогнозной модели\n",
    "real_time_forecast(data_stream, forecast_model, features.columns)"
   ]
  },
  {
   "cell_type": "markdown",
   "metadata": {},
   "source": [
    "3*. Построить модель, которая может определить значение таргета в случае изменения показателя gas_consumption1 на шаг 150 (текущее значение + 150) в последующие 15 минут."
   ]
  },
  {
   "cell_type": "code",
   "execution_count": 33,
   "metadata": {},
   "outputs": [],
   "source": [
    "# Создание данных для обучения с изменением gas_consumption1\n",
    "merged_data['gas_consumption1_modified'] = merged_data['gas_consumption1'] + 150\n",
    "merged_data['target_shifted'] = merged_data['target_y'].shift(-15)\n",
    "\n",
    "# Исключение строк с пропущенными значениями\n",
    "merged_data_modified = merged_data.dropna(subset=['target_shifted'])\n",
    "\n",
    "# Формирование признаков и целевой переменной\n",
    "modified_features = merged_data_modified.copy()\n",
    "modified_features['gas_consumption1'] = merged_data_modified['gas_consumption1_modified']\n",
    "\n",
    "# Используем только признаки, которые соответствуют исходной модели\n",
    "forecast_features_gas = modified_features[features.columns]\n",
    "forecast_target_gas = merged_data_modified['target_shifted']\n",
    "\n",
    "# Разделение данных на обучающую и тестовую выборки\n",
    "X_train_gas, X_test_gas, y_train_gas, y_test_gas = train_test_split(\n",
    "    forecast_features_gas, forecast_target_gas, test_size=0.2, random_state=42\n",
    ")\n",
    "\n",
    "# Обучение модели для прогноза\n",
    "forecast_model_gas_consumption1_changed = RandomForestRegressor(random_state=42, n_estimators=50)\n",
    "forecast_model_gas_consumption1_changed.fit(X_train_mod, y_train_mod)\n",
    "\n",
    "# Предсказание с учетом изменений\n",
    "y_pred_gas_consumption1_changed = forecast_model_gas_consumption1_changed.predict(X_test_mod)"
   ]
  },
  {
   "cell_type": "code",
   "execution_count": 34,
   "metadata": {},
   "outputs": [
    {
     "name": "stdout",
     "output_type": "stream",
     "text": [
      "RMSE:  0.05365284671635529\n",
      "MAE:  0.008577002129508182\n",
      "R^2:  0.9879916213194326\n"
     ]
    }
   ],
   "source": [
    "# Оценка модели\n",
    "rmse_gas_consumption1_changed = np.sqrt(mean_squared_error(y_test_gas, y_pred_gas_consumption1_changed))\n",
    "mae_gas_consumption1_changed = mean_absolute_error(y_test_gas, y_pred_gas_consumption1_changed)\n",
    "r2_gas_consumption1_changed = r2_score(y_test_gas, y_pred_gas_consumption1_changed)\n",
    "print(\"RMSE: \", rmse_gas_consumption1_changed)\n",
    "print(\"MAE: \", mae_gas_consumption1_changed)\n",
    "print(\"R^2: \", r2_gas_consumption1_changed)"
   ]
  },
  {
   "cell_type": "markdown",
   "metadata": {},
   "source": [
    "Симуляция для прогноза с изменением gas_consumption1"
   ]
  },
  {
   "cell_type": "code",
   "execution_count": 35,
   "metadata": {},
   "outputs": [
    {
     "name": "stdout",
     "output_type": "stream",
     "text": [
      "⚠️ Прогноз 2023-09-05 03:47:00+00:00: target через 15 минут (с изменением gas_consumption1) опустится ниже 1: 0.751\n",
      "⚠️ Прогноз 2023-09-05 17:17:00+00:00: target через 15 минут (с изменением gas_consumption1) опустится ниже 1: 0.751\n",
      "✅ Прогноз 2023-09-06 09:52:00+00:00: target через 15 минут (с изменением gas_consumption1) в пределах нормы: 1.982\n",
      "✅ Прогноз 2023-09-06 10:05:00+00:00: target через 15 минут (с изменением gas_consumption1) в пределах нормы: 1.982\n",
      "✅ Прогноз 2023-09-06 20:03:00+00:00: target через 15 минут (с изменением gas_consumption1) в пределах нормы: 1.121\n",
      "⚠️ Прогноз 2023-09-07 02:14:00+00:00: target через 15 минут (с изменением gas_consumption1) превысит 2: 2.443\n",
      "✅ Прогноз 2023-09-07 10:55:00+00:00: target через 15 минут (с изменением gas_consumption1) в пределах нормы: 1.656\n",
      "⚠️ Прогноз 2023-09-07 16:41:00+00:00: target через 15 минут (с изменением gas_consumption1) опустится ниже 1: 0.972\n",
      "⚠️ Прогноз 2023-09-09 04:42:00+00:00: target через 15 минут (с изменением gas_consumption1) опустится ниже 1: 0.324\n",
      "⚠️ Прогноз 2023-09-11 06:39:00+00:00: target через 15 минут (с изменением gas_consumption1) опустится ниже 1: 0.951\n",
      "⚠️ Прогноз 2023-09-12 04:55:00+00:00: target через 15 минут (с изменением gas_consumption1) опустится ниже 1: 0.829\n",
      "✅ Прогноз 2023-09-12 10:06:00+00:00: target через 15 минут (с изменением gas_consumption1) в пределах нормы: 1.926\n",
      "✅ Прогноз 2023-09-12 14:23:00+00:00: target через 15 минут (с изменением gas_consumption1) в пределах нормы: 1.460\n",
      "✅ Прогноз 2023-09-12 22:50:00+00:00: target через 15 минут (с изменением gas_consumption1) в пределах нормы: 1.144\n",
      "✅ Прогноз 2023-09-13 22:21:00+00:00: target через 15 минут (с изменением gas_consumption1) в пределах нормы: 1.487\n",
      "⚠️ Прогноз 2023-09-14 14:45:00+00:00: target через 15 минут (с изменением gas_consumption1) превысит 2: 2.220\n",
      "⚠️ Прогноз 2023-09-16 15:07:00+00:00: target через 15 минут (с изменением gas_consumption1) превысит 2: 2.490\n",
      "✅ Прогноз 2023-09-18 11:31:00+00:00: target через 15 минут (с изменением gas_consumption1) в пределах нормы: 1.385\n",
      "⚠️ Прогноз 2023-09-19 18:48:00+00:00: target через 15 минут (с изменением gas_consumption1) опустится ниже 1: 0.751\n",
      "⚠️ Прогноз 2023-09-20 13:30:00+00:00: target через 15 минут (с изменением gas_consumption1) опустится ниже 1: 0.751\n",
      "⚠️ Прогноз 2023-09-24 11:48:00+00:00: target через 15 минут (с изменением gas_consumption1) опустится ниже 1: 0.751\n",
      "⚠️ Прогноз 2023-09-24 19:14:00+00:00: target через 15 минут (с изменением gas_consumption1) опустится ниже 1: 0.751\n",
      "⚠️ Прогноз 2023-09-26 14:33:00+00:00: target через 15 минут (с изменением gas_consumption1) опустится ниже 1: 0.751\n",
      "⚠️ Прогноз 2023-09-27 13:14:00+00:00: target через 15 минут (с изменением gas_consumption1) опустится ниже 1: 0.751\n",
      "⚠️ Прогноз 2023-09-29 23:59:00+00:00: target через 15 минут (с изменением gas_consumption1) опустится ниже 1: 0.751\n",
      "⚠️ Прогноз 2023-09-30 03:53:00+00:00: target через 15 минут (с изменением gas_consumption1) опустится ниже 1: 0.751\n",
      "⚠️ Прогноз 2023-09-30 13:15:12+00:00: target через 15 минут (с изменением gas_consumption1) опустится ниже 1: 0.751\n",
      "⚠️ Прогноз 2023-10-02 02:33:00+00:00: target через 15 минут (с изменением gas_consumption1) опустится ниже 1: 0.751\n",
      "⚠️ Прогноз 2023-10-02 18:07:00+00:00: target через 15 минут (с изменением gas_consumption1) опустится ниже 1: 0.751\n",
      "⚠️ Прогноз 2023-10-06 05:29:00+00:00: target через 15 минут (с изменением gas_consumption1) опустится ниже 1: 0.751\n",
      "⚠️ Прогноз 2023-10-08 07:10:00+00:00: target через 15 минут (с изменением gas_consumption1) опустится ниже 1: 0.751\n",
      "⚠️ Прогноз 2023-10-08 19:25:00+00:00: target через 15 минут (с изменением gas_consumption1) опустится ниже 1: 0.751\n",
      "⚠️ Прогноз 2023-10-11 06:57:00+00:00: target через 15 минут (с изменением gas_consumption1) опустится ниже 1: 0.751\n",
      "⚠️ Прогноз 2023-10-11 19:02:00+00:00: target через 15 минут (с изменением gas_consumption1) опустится ниже 1: 0.751\n",
      "⚠️ Прогноз 2023-10-12 21:26:00+00:00: target через 15 минут (с изменением gas_consumption1) опустится ниже 1: 0.751\n",
      "⚠️ Прогноз 2023-10-15 10:23:00+00:00: target через 15 минут (с изменением gas_consumption1) опустится ниже 1: 0.751\n",
      "⚠️ Прогноз 2023-10-15 12:16:00+00:00: target через 15 минут (с изменением gas_consumption1) опустится ниже 1: 0.751\n",
      "⚠️ Прогноз 2023-10-16 19:50:00+00:00: target через 15 минут (с изменением gas_consumption1) опустится ниже 1: 0.753\n",
      "⚠️ Прогноз 2023-10-17 08:01:00+00:00: target через 15 минут (с изменением gas_consumption1) опустится ниже 1: 0.751\n",
      "⚠️ Прогноз 2023-10-17 10:04:00+00:00: target через 15 минут (с изменением gas_consumption1) опустится ниже 1: 0.751\n",
      "⚠️ Прогноз 2023-10-17 22:33:00+00:00: target через 15 минут (с изменением gas_consumption1) опустится ниже 1: 0.751\n",
      "⚠️ Прогноз 2023-10-18 06:09:00+00:00: target через 15 минут (с изменением gas_consumption1) опустится ниже 1: 0.751\n",
      "⚠️ Прогноз 2023-10-18 12:40:00+00:00: target через 15 минут (с изменением gas_consumption1) опустится ниже 1: 0.751\n",
      "⚠️ Прогноз 2023-10-18 15:45:00+00:00: target через 15 минут (с изменением gas_consumption1) опустится ниже 1: 0.751\n",
      "⚠️ Прогноз 2023-10-22 14:16:00+00:00: target через 15 минут (с изменением gas_consumption1) опустится ниже 1: 0.751\n",
      "⚠️ Прогноз 2023-10-23 08:35:00+00:00: target через 15 минут (с изменением gas_consumption1) опустится ниже 1: 0.751\n",
      "⚠️ Прогноз 2023-10-23 08:58:00+00:00: target через 15 минут (с изменением gas_consumption1) опустится ниже 1: 0.751\n",
      "⚠️ Прогноз 2023-10-24 14:07:00+00:00: target через 15 минут (с изменением gas_consumption1) опустится ниже 1: 0.751\n",
      "⚠️ Прогноз 2023-10-26 11:06:00+00:00: target через 15 минут (с изменением gas_consumption1) опустится ниже 1: 0.754\n",
      "⚠️ Прогноз 2023-10-29 15:18:00+00:00: target через 15 минут (с изменением gas_consumption1) опустится ниже 1: 0.751\n"
     ]
    }
   ],
   "source": [
    "def real_time_forecast_gas_consumption1_changed(data_stream, model, feature_columns, lower=1, upper=2):\n",
    "\n",
    "    for _, row in data_stream.iterrows():\n",
    "        # Изменение gas_consumption1\n",
    "        row['gas_consumption1'] += 150\n",
    "\n",
    "        # Формирование признаков для текущей строки\n",
    "        current_features = row[feature_columns].values.reshape(1, -1)\n",
    "        \n",
    "        # Прогноз target на 15 минут вперед\n",
    "        predicted_target = model.predict(current_features)[0]\n",
    "        \n",
    "        # Оповещение при выходе за пороги\n",
    "        timestamp = row['timestamp']\n",
    "        if predicted_target < lower:\n",
    "            print(f\"⚠️ Прогноз {timestamp}: target через 15 минут (с изменением gas_consumption1) опустится ниже {lower}: {predicted_target:.3f}\")\n",
    "        elif predicted_target > upper:\n",
    "            print(f\"⚠️ Прогноз {timestamp}: target через 15 минут (с изменением gas_consumption1) превысит {upper}: {predicted_target:.3f}\")\n",
    "        else:\n",
    "            print(f\"✅ Прогноз {timestamp}: target через 15 минут (с изменением gas_consumption1) в пределах нормы: {predicted_target:.3f}\")\n",
    "        \n",
    "        # Задержка (в рамках симуляции)\n",
    "        time.sleep(1)\n",
    "\n",
    "# Пример потока данных (выбираем несколько строк для теста)\n",
    "data_stream_modified = merged_data.sample(50).sort_values(by='timestamp')  # Имитация поступающих данных\n",
    "\n",
    "# Запуск прогнозной модели с изменением gas_consumption1\n",
    "real_time_forecast_gas_consumption1_changed(data_stream_modified, forecast_model_gas_consumption1_changed, features.columns)"
   ]
  },
  {
   "cell_type": "markdown",
   "metadata": {},
   "source": [
    "Общие результаты"
   ]
  },
  {
   "cell_type": "code",
   "execution_count": 38,
   "metadata": {},
   "outputs": [
    {
     "data": {
      "image/png": "[encoded data removed]",
      "text/plain": [
       "<Figure size 1000x600 with 1 Axes>"
      ]
     },
     "metadata": {},
     "output_type": "display_data"
    },
    {
     "data": {
      "text/plain": [
       "{'RMSE виртуального датчика': 0.0395448600575142,\n",
       " 'MAE виртуального датчика': 0.0074882157405898216,\n",
       " 'R^2 виртуального датчика': 0.9935512446076835,\n",
       " 'RMSE прогноза': 0.053149257735238396,\n",
       " 'MAE прогноза': 0.008500586472196703,\n",
       " 'R^2 прогноза': 0.9882159861926785,\n",
       " 'Среднее предсказание target при изменении gas_consumption1': 0.9164183404456077,\n",
       " 'RMSE:': 0.05365284671635529,\n",
       " 'MAE:': 0.008577002129508182,\n",
       " 'R^2:': 0.9879916213194326}"
      ]
     },
     "execution_count": 38,
     "metadata": {},
     "output_type": "execute_result"
    }
   ],
   "source": [
    "plt.figure(figsize=(10, 6))\n",
    "plt.hist(target, bins=50, alpha=0.7, label='Фактические значения target')\n",
    "plt.axvline(x=1, color='red', linestyle='--', label='Нижний порог (1)')\n",
    "plt.axvline(x=2, color='green', linestyle='--', label='Верхний порог (2)')\n",
    "plt.title('Распределение значений target')\n",
    "plt.xlabel('Значение target')\n",
    "plt.ylabel('Частота')\n",
    "plt.legend()\n",
    "plt.show()\n",
    "\n",
    "results = {\n",
    "    \"RMSE виртуального датчика\": rmse_VS,\n",
    "    \"MAE виртуального датчика\": mae_VS,\n",
    "    \"R^2 виртуального датчика\": r2_VS,\n",
    "    \"RMSE прогноза\": rmse_forecast,\n",
    "    \"MAE прогноза\": mae_forecast,\n",
    "    \"R^2 прогноза\": r2_forecast,\n",
    "    \"Среднее предсказание target при изменении gas_consumption1\": np.mean(y_pred_modified),\n",
    "    \"RMSE:\": rmse_gas_consumption1_changed,\n",
    "    \"MAE:\": mae_gas_consumption1_changed,\n",
    "    \"R^2:\": r2_gas_consumption1_changed,\n",
    "}\n",
    "\n",
    "results"
   ]
  }
 ],
 "metadata": {
  "kernelspec": {
   "display_name": "Python 3",
   "language": "python",
   "name": "python3"
  },
  "language_info": {
   "codemirror_mode": {
    "name": "ipython",
    "version": 3
   },
   "file_extension": ".py",
   "mimetype": "text/x-python",
   "name": "python",
   "nbconvert_exporter": "python",
   "pygments_lexer": "ipython3",
   "version": "3.11.9"
  }
 },
 "nbformat": 4,
 "nbformat_minor": 2
}
